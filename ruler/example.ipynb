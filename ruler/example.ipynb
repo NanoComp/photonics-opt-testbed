{
 "cells": [
  {
   "cell_type": "code",
   "execution_count": 1,
   "metadata": {},
   "outputs": [],
   "source": [
    "import numpy as np\n",
    "import ruler\n",
    "from matplotlib import pyplot as plt"
   ]
  },
  {
   "cell_type": "code",
   "execution_count": 2,
   "metadata": {},
   "outputs": [
    {
     "data": {
      "image/png": "[encoded data removed]",
      "text/plain": [
       "<Figure size 432x288 with 1 Axes>"
      ]
     },
     "metadata": {
      "needs_background": "light"
     },
     "output_type": "display_data"
    }
   ],
   "source": [
    "# examples in 2d\n",
    "nx,ny = 300,200 # numbers of rows and columns, respectively\n",
    "design_width,design_height = 6,4\n",
    "x_coord,y_coord = np.linspace(-design_width/2, design_width/2, nx),np.linspace(-design_height/2, design_height/2, ny)\n",
    "xv, yv = np.meshgrid(x_coord, y_coord, sparse=True, indexing='ij')\n",
    "\n",
    "diameter = 1.6\n",
    "xc,yc = 0,0\n",
    "disc = np.where((xv-xc)**2+(yv-yc)**2<=diameter**2/4,1,0)\n",
    "\n",
    "plt.figure()\n",
    "plt.imshow(disc,extent=[y_coord[0],y_coord[-1],x_coord[0],x_coord[-1]])\n",
    "plt.show()"
   ]
  },
  {
   "cell_type": "code",
   "execution_count": 3,
   "metadata": {},
   "outputs": [
    {
     "name": "stdout",
     "output_type": "stream",
     "text": [
      "The minimum length scale of the disc is  1.578125\n"
     ]
    }
   ],
   "source": [
    "phys_size = [design_width,design_height] # physical size of the 2d design\n",
    "# the two elements correspond to the row and the column of the 2d array, respectively\n",
    "\n",
    "min_ls = ruler.minimum_length(disc,phys_size) # search the minimum length scale\n",
    "print(\"The minimum length scale of the disc is \",min_ls)"
   ]
  },
  {
   "cell_type": "code",
   "execution_count": 4,
   "metadata": {},
   "outputs": [
    {
     "data": {
      "image/png": "[encoded data removed]",
      "text/plain": [
       "<Figure size 432x288 with 1 Axes>"
      ]
     },
     "metadata": {
      "needs_background": "light"
     },
     "output_type": "display_data"
    }
   ],
   "source": [
    "width = 0.8\n",
    "horizontal_stripe = np.tile(np.where(np.abs(xv)<=width/2,1,0),ny)\n",
    "\n",
    "plt.figure()\n",
    "plt.imshow(horizontal_stripe,extent=[y_coord[0],y_coord[-1],x_coord[0],x_coord[-1]])\n",
    "plt.show()"
   ]
  },
  {
   "cell_type": "code",
   "execution_count": 5,
   "metadata": {},
   "outputs": [
    {
     "name": "stdout",
     "output_type": "stream",
     "text": [
      "The minimum length scale of the horizontal stripe is  0.8125\n"
     ]
    }
   ],
   "source": [
    "min_ls = ruler.minimum_length(horizontal_stripe,phys_size) # search the minimum length scale\n",
    "print(\"The minimum length scale of the horizontal stripe is \",min_ls)"
   ]
  },
  {
   "cell_type": "code",
   "execution_count": 6,
   "metadata": {},
   "outputs": [
    {
     "data": {
      "image/png": "[encoded data removed]",
      "text/plain": [
       "<Figure size 432x288 with 1 Axes>"
      ]
     },
     "metadata": {
      "needs_background": "light"
     },
     "output_type": "display_data"
    }
   ],
   "source": [
    "nx,ny = 300,200\n",
    "design_width,design_height = 6,4\n",
    "x_coord,y_coord = np.linspace(-design_width/2, design_width/2, nx),np.linspace(-design_height/2, design_height/2, ny)\n",
    "xv, yv = np.meshgrid(x_coord, y_coord, sparse=True, indexing='ij')\n",
    "\n",
    "width,intercept,angle = 1,1/np.sqrt(2),0.25*np.pi\n",
    "oblique_stripe = np.where(yv*np.cos(angle)+xv*np.sin(angle)>=intercept*np.sin(angle)-width/2,1,0)*np.where(\n",
    "    yv*np.cos(angle)+xv*np.sin(angle)<=intercept*np.sin(angle)+width/2,1,0)\n",
    "\n",
    "plt.figure()\n",
    "plt.imshow(oblique_stripe,extent=[y_coord[0],y_coord[-1],x_coord[0],x_coord[-1]])\n",
    "plt.show()"
   ]
  },
  {
   "cell_type": "code",
   "execution_count": 7,
   "metadata": {},
   "outputs": [
    {
     "name": "stdout",
     "output_type": "stream",
     "text": [
      "The minimum length scale of the oblique stripe is  1.0\n"
     ]
    }
   ],
   "source": [
    "phys_size = [design_width,design_height] # physical size of the 2d design\n",
    "margin_size = [0,2,0,1] # widths of marginal region to be ignored\n",
    "# the first and second elements correspond to the row, and the third and fourth elements correspond to the column\n",
    "\n",
    "min_ls = ruler.minimum_length(oblique_stripe,phys_size,margin_size) # search the minimum length scale\n",
    "print(\"The minimum length scale of the oblique stripe is \",min_ls)"
   ]
  },
  {
   "cell_type": "code",
   "execution_count": 8,
   "metadata": {},
   "outputs": [
    {
     "name": "stdout",
     "output_type": "stream",
     "text": [
      "The minimum length scale of the ball is  0.765625\n"
     ]
    }
   ],
   "source": [
    "# examples in 3d\n",
    "nx, ny, nz = 80, 80, 80\n",
    "sx, sy, sz = 2, 2, 2\n",
    "x_coord, y_coord, z_coord = np.linspace(-sx/2, sx/2, nx), np.linspace(-sy/2, sy/2, ny), np.linspace(-sz/2, sz/2, nz)\n",
    "xv,yv,zv = np.meshgrid(x_coord, y_coord, z_coord, sparse=True, indexing='ij')\n",
    "\n",
    "# ball with the diameter 0.8\n",
    "diameter = 0.8\n",
    "xc, yc, zc = 0,0,0\n",
    "ball = np.where((xv-xc)**2+(yv-yc)**2+(zv-zc)**2<=diameter**2/4,1,0)\n",
    "\n",
    "phys_size = [sx,sy,sz] # physical size of the 3d design\n",
    "min_ls = ruler.minimum_length(ball,phys_size) # search the minimum length scale\n",
    "print(\"The minimum length scale of the ball is \",min_ls);"
   ]
  },
  {
   "cell_type": "code",
   "execution_count": 9,
   "metadata": {},
   "outputs": [
    {
     "name": "stdout",
     "output_type": "stream",
     "text": [
      "The minimum length scale of the slab is  0.8125\n"
     ]
    }
   ],
   "source": [
    "# slab with the thickness 0.8\n",
    "width = 0.8\n",
    "slab= np.tile(np.where(np.abs(xv)<=width/2,1,0),(ny,nz))\n",
    "\n",
    "min_ls = ruler.minimum_length(slab,phys_size) # search the minimum length scale\n",
    "print(\"The minimum length scale of the slab is \",min_ls);"
   ]
  },
  {
   "cell_type": "code",
   "execution_count": 10,
   "metadata": {},
   "outputs": [
    {
     "name": "stdout",
     "output_type": "stream",
     "text": [
      "The minimum length scale of the stick is  0.765625\n"
     ]
    }
   ],
   "source": [
    "# stick with the diameter 0.8\n",
    "diameter = 0.8\n",
    "stick = np.tile(np.where(xv**2+yv**2<=diameter**2/4,1,0),nz)\n",
    "\n",
    "min_ls = ruler.minimum_length(stick,phys_size) # search the minimum length scale\n",
    "print(\"The minimum length scale of the stick is \",min_ls);"
   ]
  },
  {
   "cell_type": "code",
   "execution_count": 11,
   "metadata": {},
   "outputs": [
    {
     "data": {
      "image/png": "[encoded data removed]",
      "text/plain": [
       "<Figure size 432x288 with 1 Axes>"
      ]
     },
     "metadata": {
      "needs_background": "light"
     },
     "output_type": "display_data"
    }
   ],
   "source": [
    "# oblique slab with the thickness 0.8\n",
    "width,intercept,angle = 0.8,1/np.sqrt(2),0.25*np.pi\n",
    "oblique_stripe = np.where(yv*np.cos(angle)+xv*np.sin(angle)>=intercept*np.sin(angle)-width/2,1,0)*np.where(\n",
    "    yv*np.cos(angle)+xv*np.sin(angle)<=intercept*np.sin(angle)+width/2,1,0)\n",
    "oblique_slab = np.tile(oblique_stripe,nz)\n",
    "\n",
    "plt.figure()\n",
    "plt.imshow(oblique_stripe[:,:,0],extent=[x_coord[0],x_coord[-1],y_coord[0],y_coord[-1]]) # cross section\n",
    "plt.show()"
   ]
  },
  {
   "cell_type": "code",
   "execution_count": 12,
   "metadata": {},
   "outputs": [
    {
     "name": "stdout",
     "output_type": "stream",
     "text": [
      "The minimum length scale of the oblique slab is  0.828125\n"
     ]
    }
   ],
   "source": [
    "phys_size = [sx,sy,sz] # physical size of the 2d design\n",
    "margin_size = [0,0.4,0,0.4,0,0] # widths of marginal region to be ignored, the three pairs of elements correspond the three dimensions\n",
    "\n",
    "min_ls = ruler.minimum_length(oblique_slab,phys_size,margin_size) # search the minimum length scale\n",
    "print(\"The minimum length scale of the oblique slab is \",min_ls);"
   ]
  }
 ],
 "metadata": {
  "kernelspec": {
   "display_name": "Python [conda env:root] *",
   "language": "python",
   "name": "conda-root-py"
  },
  "language_info": {
   "codemirror_mode": {
    "name": "ipython",
    "version": 3
   },
   "file_extension": ".py",
   "mimetype": "text/x-python",
   "name": "python",
   "nbconvert_exporter": "python",
   "pygments_lexer": "ipython3",
   "version": "3.7.3"
  },
  "latex_envs": {
   "LaTeX_envs_menu_present": true,
   "autoclose": false,
   "autocomplete": true,
   "bibliofile": "biblio.bib",
   "cite_by": "apalike",
   "current_citInitial": 1,
   "eqLabelWithNumbers": true,
   "eqNumInitial": 1,
   "hotkeys": {
    "equation": "Ctrl-E",
    "itemize": "Ctrl-I"
   },
   "labels_anchors": false,
   "latex_user_defs": false,
   "report_style_numbering": false,
   "user_envs_cfg": false
  },
  "toc": {
   "base_numbering": 1,
   "nav_menu": {},
   "number_sections": true,
   "sideBar": true,
   "skip_h1_title": false,
   "title_cell": "Table of Contents",
   "title_sidebar": "Contents",
   "toc_cell": false,
   "toc_position": {},
   "toc_section_display": true,
   "toc_window_display": false
  },
  "varInspector": {
   "cols": {
    "lenName": 16,
    "lenType": 16,
    "lenVar": 40
   },
   "kernels_config": {
    "python": {
     "delete_cmd_postfix": "",
     "delete_cmd_prefix": "del ",
     "library": "var_list.py",
     "varRefreshCmd": "print(var_dic_list())"
    },
    "r": {
     "delete_cmd_postfix": ") ",
     "delete_cmd_prefix": "rm(",
     "library": "var_list.r",
     "varRefreshCmd": "cat(var_dic_list()) "
    }
   },
   "types_to_exclude": [
    "module",
    "function",
    "builtin_function_or_method",
    "instance",
    "_Feature"
   ],
   "window_display": false
  }
 },
 "nbformat": 4,
 "nbformat_minor": 2
}
